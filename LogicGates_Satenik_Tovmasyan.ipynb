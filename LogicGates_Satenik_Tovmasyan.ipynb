{
 "cells": [
  {
   "cell_type": "markdown",
   "metadata": {
    "colab_type": "text",
    "id": "Bk31cBkzcaGQ"
   },
   "source": [
    "# Classical Logic Gates with quantum circuits (due date -- March 17 2020)"
   ]
  },
  {
   "cell_type": "code",
   "execution_count": 0,
   "metadata": {
    "colab": {},
    "colab_type": "code",
    "id": "5bSt1JszDjaP"
   },
   "outputs": [],
   "source": [
    "from qiskit import *\n",
    "from qiskit.tools.visualization import plot_histogram\n",
    "import numpy as np"
   ]
  },
  {
   "cell_type": "markdown",
   "metadata": {
    "colab_type": "text",
    "id": "i-9JKYc_DjaU"
   },
   "source": [
    "Using the NOT gate (expressed as x in Qiskit), the CNOT gate (expressed as cx in Qiskit) and the Toffoli gate (expressed as ccx in Qiskit) create functions to implement the XOR, AND, NAND, OR and FANOUT gates.\n",
    "\n",
    "An implementation of the NOT gate is provided as an example."
   ]
  },
  {
   "cell_type": "markdown",
   "metadata": {
    "colab_type": "text",
    "id": "pdMeVqQdDjaV"
   },
   "source": [
    "## NOT gate \n",
    "This function takes a binary string input ('0' or '1') and returns the opposite binary output'."
   ]
  },
  {
   "cell_type": "code",
   "execution_count": 1,
   "metadata": {
    "colab": {},
    "colab_type": "code",
    "id": "wBpKpV2gDjaW"
   },
   "outputs": [],
   "source": [
    "def NOT(input):\n",
    "\n",
    "    q = QuantumRegister(1) # a qubit in which to encode and manipulate the input\n",
    "    c = ClassicalRegister(1) # a bit to store the output\n",
    "    qc = QuantumCircuit(q, c) # this is where the quantum program goes\n",
    "    \n",
    "    # We encode '0' as the qubit state |0⟩, and '1' as |1⟩\n",
    "    # Since the qubit is initially |0⟩, we don't need to do anything for an input of '0'\n",
    "    # For an input of '1', we do an x to rotate the |0⟩ to |1⟩\n",
    "    if input=='1':\n",
    "        qc.x( q[0] )\n",
    "        \n",
    "    # Now we've encoded the input, we can do a NOT on it using x\n",
    "    qc.x( q[0] )\n",
    "    \n",
    "    # Finally, we extract the |0⟩/|1⟩ output of the qubit and encode it in the bit c[0]\n",
    "    qc.measure( q[0], c[0] )\n",
    "    \n",
    "    # We'll run the program on a simulator\n",
    "    backend = Aer.get_backend('qasm_simulator')\n",
    "    # Since the output will be deterministic, we can use just a single shot to get it\n",
    "    job = execute(qc,backend,shots=1)\n",
    "    output = next(iter(job.result().get_counts()))\n",
    "    \n",
    "    return output"
   ]
  },
  {
   "cell_type": "markdown",
   "metadata": {
    "colab_type": "text",
    "id": "N2Xy78n0DjaY"
   },
   "source": [
    "## XOR gate \n",
    "Takes two binary strings as input and gives one as output.\n",
    "\n",
    "The output is '0' when the inputs are equal and '1' otherwise."
   ]
  },
  {
   "cell_type": "code",
   "execution_count": 5,
   "metadata": {
    "colab": {},
    "colab_type": "code",
    "id": "FXhk1NVqDjaZ"
   },
   "outputs": [],
   "source": [
    "def XOR(input1, input2): \n",
    "    \n",
    "    q = QuantumRegister(2) # two qubits in which to encode and manipulate the input\n",
    "    c = ClassicalRegister(1) # a bit to store the output\n",
    "    qc = QuantumCircuit(q, c) # this is where the quantum program goes\n",
    "    \n",
    "    \n",
    "    \n",
    "    # ! it shows error when i want to run the test program at the end, it shows NameError. \n",
    "    \n",
    "    \n",
    "    # AS WRITTEN IN THE DEF THERE ARE GONNA BE 2 INPUT VALUES FOR XOR GATE\n",
    "    # IF INPUTS ARE EQUAL IT RETURNS 0, IF INPUTS VARY IT RETURNS 1 \n",
    "    \n",
    "    if input1!=input2: # IF INPUT1 IS NOT EQUAL TO INPUT2 \n",
    "                         # ENCODES INPUTS TO BIT STATE\n",
    "                         # ROTATES INPUTS |0⟩ TO |1⟩\n",
    "     qc.x(q[0])\n",
    "    \n",
    "    # NOW WE USE XOR ON IT BY USING CX\n",
    "    qc.cx(q[0], q[1])\n",
    "    \n",
    "    # WE EXTRACT THE OUTFIT OF THE QUBIT TO BIT\n",
    "    qc.measure(q[1], c[0])\n",
    "    \n",
    "    # We'll run the program on a simulator\n",
    "    backend = Aer.get_backend('qasm_simulator')\n",
    "    # Since the output will be deterministic, we can use just a single shot to get it\n",
    "    job = execute(qc,backend,shots=1,memory=True)\n",
    "    output = job.result().get_memory()[0]\n",
    "    \n",
    "    return output"
   ]
  },
  {
   "cell_type": "markdown",
   "metadata": {
    "colab_type": "text",
    "id": "Y2g8hZRqDjac"
   },
   "source": [
    "## AND gate \n",
    "Takes two binary strings as input and gives one as output.\n",
    "\n",
    "The output is '1' only when both the inputs are '1'."
   ]
  },
  {
   "cell_type": "code",
   "execution_count": 0,
   "metadata": {
    "colab": {},
    "colab_type": "code",
    "id": "prUdLaDcDjad"
   },
   "outputs": [],
   "source": [
    "def AND(input1,input2):\n",
    "    \n",
    "    q = QuantumRegister(3) # two qubits in which to encode the input, and one for the output\n",
    "    c = ClassicalRegister(1) # a bit to store the output\n",
    "    qc = QuantumCircuit(q, c) # this is where the quantum program goes\n",
    "    \n",
    "    # YOUR QUANTUM PROGRAM GOES HERE\n",
    "    # AS WRITTEN IN THE DEF THERE ARE GONNA BE 2 INPUT VALUES FOR AND GATE\n",
    "    # IF INPUTS ARE EQUAL TO 1 IT RETURNS 1 \n",
    "    \n",
    "    if input1==\"1\" AND\n",
    "    input2=\"1\":  \n",
    "        # IF INPUT1 IS EQUAL TO INPUT2 AND EQUAL TO 1         \n",
    "        # ENCODES INPUTS TO BIT STATE                \n",
    "        # ROTATES INPUTS |0⟩ TO |1⟩\n",
    "        \n",
    "    qc.x(q[0])\n",
    "    qc.x(q[1])\n",
    "    \n",
    "    # NOW WE USE AND ON IT BY USING CX \n",
    "    qc.cx(q[0],q[1],q[2])\n",
    "    \n",
    "    # WE EXTRACT THE OUTPUT OF THE QUBIT TO BIT\n",
    "    qc.measure(q[2], c[0])\n",
    "    \n",
    "    \n",
    "    # We'll run the program on a simulator\n",
    "    backend = Aer.get_backend('qasm_simulator')\n",
    "    # Since the output will be deterministic, we can use just a single shot to get it\n",
    "    job = execute(qc, backend,shots=1,memory=True)\n",
    "    output = job.result().get_memory()[0]\n",
    "    \n",
    "    return output"
   ]
  },
  {
   "cell_type": "markdown",
   "metadata": {
    "colab_type": "text",
    "id": "iz5AY0g8Djaf"
   },
   "source": [
    "## NAND gate \n",
    "Takes two binary strings as input and gives one as output.\n",
    "\n",
    "The output is '0' only when both the inputs are '1'."
   ]
  },
  {
   "cell_type": "code",
   "execution_count": 0,
   "metadata": {
    "colab": {},
    "colab_type": "code",
    "id": "9uPKZGzUDjag"
   },
   "outputs": [],
   "source": [
    "def NAND(input1,input2):\n",
    "  \n",
    "    q = QuantumRegister(3) # two qubits in which to encode the input, and one for the output\n",
    "    c = ClassicalRegister(1) # a bit to store the output\n",
    "    qc = QuantumCircuit(q, c) # this is where the quantum program goes\n",
    "    \n",
    "    # YOUR QUANTUM PROGRAM GOES HERE\n",
    "    # AS WRITTEN IN THE DEF THERE ARE GONNA BE 2 INPUT VALUES FOR AND GATE\n",
    "    # IF INPUTS ARE EQUAL TO 1 IT RETURNS 1 \n",
    "    \n",
    "    if input1==\"1\" OR\n",
    "    input2==\"1\":  \n",
    "        # IF EITHER OF THE INPUTS ARE 1 THEN THE OUTPUT IS 0        \n",
    "        # ENCODES INPUTS TO BIT STATE                \n",
    "        # ROTATES INPUTS |0⟩ TO |1⟩\n",
    "        \n",
    "    qc.x(q[0])\n",
    "    qc.x(q[1])\n",
    "    \n",
    "    # NOW WE USE AND ON IT BY USING CX \n",
    "    qc.cx(q[0],q[1],q[2])\n",
    "    \n",
    "    # WE EXTRACT THE OUTPUT  OF THE QUBIT TO BIT\n",
    "    qc.measure(q[2], c[0])\n",
    "    \n",
    "    \n",
    "    # We'll run the program on a simulator\n",
    "    backend = Aer.get_backend('qasm_simulator')\n",
    "    # Since the output will be deterministic, we can use just a single shot to get it\n",
    "    job = execute(qc,backend,shots=1,memory=True)\n",
    "    output = job.result().get_memory()[0]\n",
    "    \n",
    "    return output"
   ]
  },
  {
   "cell_type": "markdown",
   "metadata": {
    "colab_type": "text",
    "id": "YFGJcFblDjaj"
   },
   "source": [
    "## OR gate \n",
    "Takes two binary strings as input and gives one as output.\n",
    "\n",
    "The output is '1' if either input is '1'."
   ]
  },
  {
   "cell_type": "code",
   "execution_count": 0,
   "metadata": {
    "colab": {},
    "colab_type": "code",
    "id": "soLOxTsnDjak"
   },
   "outputs": [],
   "source": [
    "def OR(input1, input2):\n",
    "  \n",
    "    q = QuantumRegister(3) # two qubits in which to encode the input, and one for the output\n",
    "    c = ClassicalRegister(1) # a bit to store the output\n",
    "    qc = QuantumCircuit(q, c) # this is where the quantum program goes\n",
    "    \n",
    "    # AS WRITTEN IN THE DEF THERE ARE GONNA BE 2 INPUT VALUES FOR XOR GATE\n",
    "    # THE OUTPUT IS EQUAL TO 1  \n",
    "    \n",
    "    if input1!=\"0\" or input2!=\"0\": \n",
    "    # IF INPUT1 IS NOT EQUAL TO 0 OR INPUT2 IS NOT EQUAL TO 0 \n",
    "    # ENCODES INPUTS TO BIT STATE\n",
    "    # ROTATES INPUTS |0⟩ TO |1⟩\n",
    "     qc.x(q[0])\n",
    "    \n",
    "    # NOW WE USE OR ON IT BY USING CX\n",
    "    qc.cx(q[0],q[1],q[2])\n",
    "    \n",
    "    # WE EXTRACT THE OUTFIT OF THE QUBIT TO BIT\n",
    "    qc.measure(q[2], c[0])\n",
    "    \n",
    "    \n",
    "    # We'll run the program on a simulator\n",
    "    backend = Aer.get_backend('qasm_simulator')\n",
    "    # Since the output will be deterministic, we can use just a single shot to get it\n",
    "    job = execute(qc,backend,shots=1,memory=True)\n",
    "    output = job.result().get_memory()[0]\n",
    "    \n",
    "    return output"
   ]
  },
  {
   "cell_type": "markdown",
   "metadata": {
    "colab_type": "text",
    "id": "2hKv8b4jDjam"
   },
   "source": [
    "## FANOUT gate\n",
    "\n",
    "Takes one binary string as input and gives two copies as output."
   ]
  },
  {
   "cell_type": "code",
   "execution_count": 6,
   "metadata": {
    "colab": {},
    "colab_type": "code",
    "id": "5x-YipfkDjan"
   },
   "outputs": [],
   "source": [
    "def FANOUT(input):\n",
    "  \n",
    "    q = QuantumRegister(3) # two qubits in which to encode the input, and one for the output\n",
    "    c = ClassicalRegister(2) # a bit to store the output\n",
    "    qc = QuantumCircuit(q, c) # this is where the quantum program goes\n",
    "    \n",
    "    \n",
    "    \n",
    "    # We'll run the program on a simulator\n",
    "    backend = Aer.get_backend('qasm_simulator')\n",
    "    # Since the output will be deterministic, we can use just a single shot to get it\n",
    "    job = execute(qc,backend,shots=1,memory=True)\n",
    "    output = job.result().get_memory()[0]\n",
    "    \n",
    "    return output"
   ]
  },
  {
   "cell_type": "markdown",
   "metadata": {
    "colab_type": "text",
    "id": "R-ziqFDsDjap"
   },
   "source": [
    "## Tests \n",
    "The following code runs the functions above for all possible inputs, so that you can check whether they work."
   ]
  },
  {
   "cell_type": "code",
   "execution_count": 3,
   "metadata": {
    "colab": {},
    "colab_type": "code",
    "id": "y4IIaxfJDjaq",
    "outputId": "f27ebbd5-2a7f-44d8-ab5f-6f337a15e987"
   },
   "outputs": [
    {
     "name": "stdout",
     "output_type": "stream",
     "text": [
      "\n",
      "Results for the NOT gate\n"
     ]
    },
    {
     "ename": "NameError",
     "evalue": "name 'QuantumRegister' is not defined",
     "output_type": "error",
     "traceback": [
      "\u001b[1;31m---------------------------------------------------------------------------\u001b[0m",
      "\u001b[1;31mNameError\u001b[0m                                 Traceback (most recent call last)",
      "\u001b[1;32m<ipython-input-3-c5c74e572e83>\u001b[0m in \u001b[0;36m<module>\u001b[1;34m\u001b[0m\n\u001b[0;32m      1\u001b[0m \u001b[0mprint\u001b[0m\u001b[1;33m(\u001b[0m\u001b[1;34m'\\nResults for the NOT gate'\u001b[0m\u001b[1;33m)\u001b[0m\u001b[1;33m\u001b[0m\u001b[1;33m\u001b[0m\u001b[0m\n\u001b[0;32m      2\u001b[0m \u001b[1;32mfor\u001b[0m \u001b[0minput\u001b[0m \u001b[1;32min\u001b[0m \u001b[1;33m[\u001b[0m\u001b[1;34m'0'\u001b[0m\u001b[1;33m,\u001b[0m\u001b[1;34m'1'\u001b[0m\u001b[1;33m]\u001b[0m\u001b[1;33m:\u001b[0m\u001b[1;33m\u001b[0m\u001b[1;33m\u001b[0m\u001b[0m\n\u001b[1;32m----> 3\u001b[1;33m     \u001b[0mprint\u001b[0m\u001b[1;33m(\u001b[0m\u001b[1;34m'    Input'\u001b[0m\u001b[1;33m,\u001b[0m\u001b[0minput\u001b[0m\u001b[1;33m,\u001b[0m\u001b[1;34m'gives output'\u001b[0m\u001b[1;33m,\u001b[0m\u001b[0mNOT\u001b[0m\u001b[1;33m(\u001b[0m\u001b[0minput\u001b[0m\u001b[1;33m)\u001b[0m\u001b[1;33m)\u001b[0m\u001b[1;33m\u001b[0m\u001b[1;33m\u001b[0m\u001b[0m\n\u001b[0m\u001b[0;32m      4\u001b[0m \u001b[1;33m\u001b[0m\u001b[0m\n\u001b[0;32m      5\u001b[0m \u001b[0mprint\u001b[0m\u001b[1;33m(\u001b[0m\u001b[1;34m'\\nResults for the XOR gate'\u001b[0m\u001b[1;33m)\u001b[0m\u001b[1;33m\u001b[0m\u001b[1;33m\u001b[0m\u001b[0m\n",
      "\u001b[1;32m<ipython-input-1-86cd45f579bb>\u001b[0m in \u001b[0;36mNOT\u001b[1;34m(input)\u001b[0m\n\u001b[0;32m      1\u001b[0m \u001b[1;32mdef\u001b[0m \u001b[0mNOT\u001b[0m\u001b[1;33m(\u001b[0m\u001b[0minput\u001b[0m\u001b[1;33m)\u001b[0m\u001b[1;33m:\u001b[0m\u001b[1;33m\u001b[0m\u001b[1;33m\u001b[0m\u001b[0m\n\u001b[0;32m      2\u001b[0m \u001b[1;33m\u001b[0m\u001b[0m\n\u001b[1;32m----> 3\u001b[1;33m     \u001b[0mq\u001b[0m \u001b[1;33m=\u001b[0m \u001b[0mQuantumRegister\u001b[0m\u001b[1;33m(\u001b[0m\u001b[1;36m1\u001b[0m\u001b[1;33m)\u001b[0m \u001b[1;31m# a qubit in which to encode and manipulate the input\u001b[0m\u001b[1;33m\u001b[0m\u001b[1;33m\u001b[0m\u001b[0m\n\u001b[0m\u001b[0;32m      4\u001b[0m     \u001b[0mc\u001b[0m \u001b[1;33m=\u001b[0m \u001b[0mClassicalRegister\u001b[0m\u001b[1;33m(\u001b[0m\u001b[1;36m1\u001b[0m\u001b[1;33m)\u001b[0m \u001b[1;31m# a bit to store the output\u001b[0m\u001b[1;33m\u001b[0m\u001b[1;33m\u001b[0m\u001b[0m\n\u001b[0;32m      5\u001b[0m     \u001b[0mqc\u001b[0m \u001b[1;33m=\u001b[0m \u001b[0mQuantumCircuit\u001b[0m\u001b[1;33m(\u001b[0m\u001b[0mq\u001b[0m\u001b[1;33m,\u001b[0m \u001b[0mc\u001b[0m\u001b[1;33m)\u001b[0m \u001b[1;31m# this is where the quantum program goes\u001b[0m\u001b[1;33m\u001b[0m\u001b[1;33m\u001b[0m\u001b[0m\n",
      "\u001b[1;31mNameError\u001b[0m: name 'QuantumRegister' is not defined"
     ]
    }
   ],
   "source": [
    "print('\\nResults for the NOT gate')\n",
    "for input in ['0','1']:\n",
    "    print('    Input',input,'gives output',NOT(input))\n",
    "    \n",
    "print('\\nResults for the XOR gate')\n",
    "for input1 in ['0','1']:\n",
    "    for input2 in ['0','1']:\n",
    "        print('    Inputs',input1,input2,'give output',XOR(input1,input2))\n",
    "\n",
    "print('\\nResults for the AND gate')\n",
    "for input1 in ['0','1']:\n",
    "    for input2 in ['0','1']:\n",
    "        print('    Inputs',input1,input2,'give output',AND(input1,input2))\n",
    "\n",
    "print('\\nResults for the NAND gate')\n",
    "for input1 in ['0','1']:\n",
    "    for input2 in ['0','1']:\n",
    "        print('    Inputs',input1,input2,'give output',NAND(input1,input2))\n",
    "\n",
    "print('\\nResults for the OR gate')\n",
    "for input1 in ['0','1']:\n",
    "    for input2 in ['0','1']:\n",
    "        print('    Inputs',input1,input2,'give output',OR(input1,input2))\n",
    "\n",
    "print('\\nResults for the FANOUT gate')\n",
    "for input in ['0','1']:\n",
    "    print('    Inputs',input,'gives output',FANOUT(input))"
   ]
  },
  {
   "cell_type": "code",
   "execution_count": 0,
   "metadata": {
    "colab": {},
    "colab_type": "code",
    "id": "Amiwuhy5Djaw",
    "outputId": "2925ddeb-06d3-4c85-9631-0537ea0e33e5"
   },
   "outputs": [
    {
     "data": {
      "text/plain": [
       "{'qiskit-terra': '0.11.1',\n",
       " 'qiskit-aer': '0.3.4',\n",
       " 'qiskit-ignis': '0.2.0',\n",
       " 'qiskit-ibmq-provider': '0.4.6',\n",
       " 'qiskit-aqua': '0.6.4',\n",
       " 'qiskit': None}"
      ]
     },
     "execution_count": 82,
     "metadata": {
      "tags": []
     },
     "output_type": "execute_result"
    }
   ],
   "source": [
    "import qiskit\n",
    "qiskit.__qiskit_version__"
   ]
  }
 ],
 "metadata": {
  "colab": {
   "collapsed_sections": [],
   "name": "2.Classical Logic Gates with Quantum Circuits.ipynb",
   "provenance": []
  },
  "kernelspec": {
   "display_name": "Python 3",
   "language": "python",
   "name": "python3"
  },
  "language_info": {
   "codemirror_mode": {
    "name": "ipython",
    "version": 3
   },
   "file_extension": ".py",
   "mimetype": "text/x-python",
   "name": "python",
   "nbconvert_exporter": "python",
   "pygments_lexer": "ipython3",
   "version": "3.7.1"
  }
 },
 "nbformat": 4,
 "nbformat_minor": 1
}
