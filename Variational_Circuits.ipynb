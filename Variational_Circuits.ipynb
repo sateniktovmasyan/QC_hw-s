{
 "cells": [
  {
   "cell_type": "markdown",
   "metadata": {
    "colab_type": "text",
    "id": "muK-MJcvQlEA"
   },
   "source": [
    "Current and near-term quantum computers suffer from imperfections, as we repeatedly pointed it out. This is why we cannot run long algorithms, that is, deep circuits on them. A new breed of algorithms started to appear since 2013 that focus on getting an advantage from imperfect quantum computers. The basic idea is extremely simple: run a short sequence of gates where some gates are parametrized. Then read out the result, make adjustments to the parameters on a classical computer, and repeat the calculation with the new parameters on the quantum hardware. This way we create an iterative loop between the quantum and the classical processing units, creating classical-quantum hybrid algorithms.\n",
    "\n",
    "\n",
    "<img src=\"images/hybrid_classical_quantum.svg\" alt=\"Hybrid classical-quantum paradigm\" style=\"width: 400px;\"/>\n",
    "\n",
    "These algorithms are also called variational to reflect the variational approach to changing the parameters. One of the most important example of this approach is the quantum approximate optimization algorithm, which is the subject of this notebook."
   ]
  },
  {
   "cell_type": "markdown",
   "metadata": {
    "colab_type": "text",
    "id": "gAd3MYMpQlEB"
   },
   "source": [
    "# Quantum approximate optimization algorithm\n",
    "\n",
    "The quantum approximate optimization algorithm (QAOA) is a shallow-circuit variational algorithm for gate-model quantum computers that was inspired by quantum annealing. We discretize the adiabatic pathway in some $p$ steps, where $p$ influences precision. Each discrete time step $i$ has two parameters, $\\beta_i, \\gamma_i$. The classical variational algorithms does an optimization over these parameters based on the observed energy at the end of a run on the quantum hardware.\n",
    "\n",
    "More formally, we want to discretize the time-dependent $H(t)=(1-t)H_0 + tH_1$ under adiabatic conditions. We achieve this by Trotterizing the unitary. For instance, for time step $t_0$, we can split this unitary as $U(t_0) = U(H_0, \\beta_0)U(H_1, \\gamma_0)$. We can continue doing this for subsequent time steps, eventually splitting up the evolution to $p$ such chunks:\n",
    "\n",
    "$$\n",
    "U = U(H_0, \\beta_0)U(H_1, \\gamma_0)\\ldots U(H_0, \\beta_p)U(H_1, \\gamma_p).\n",
    "$$\n",
    "\n",
    "At the end of optimizing the parameters, this discretized evolution will approximate the adiabatic pathway:\n",
    "\n",
    "<img src=\"images/qaoa_process.svg\" alt=\"Quantum approximate optimization algorithm\" style=\"width: 400px;\"/>\n",
    "\n",
    "The Hamiltonian $H_0$ is often referred to as the driving or mixing Hamiltonian, and $H_1$ as the cost Hamiltonian. The simplest mixing Hamiltonian is $H_0 = -\\sum_i \\sigma^X_i$, the same as the initial Hamiltonian in quantum annealing. By alternating between the two Hamiltonian, the mixing Hamiltonian drives the state towards an equal superposition, whereas the cost Hamiltonian tries to seek its own ground state.\n",
    "\n",
    "In this notebook we go over the quantum approximate optimization algorithm (QAOA) and get acquainted with Qiskit Aqua (the documentation can be found [here](https://qiskit.org/documentation/apidoc/aqua/aqua.html). Documentation of Qiskit Aqua operators is [here](https://qiskit.org/documentation/apidoc/aqua/operators/operators.html)). \n",
    "\n",
    "Let us import the necessary packages first:"
   ]
  },
  {
   "cell_type": "code",
   "execution_count": 0,
   "metadata": {
    "ExecuteTime": {
     "end_time": "2018-11-19T20:09:25.405530Z",
     "start_time": "2018-11-19T20:09:25.393410Z"
    },
    "colab": {},
    "colab_type": "code",
    "id": "pir3i_tpQlEC"
   },
   "outputs": [],
   "source": [
    "import itertools\n",
    "import numpy as np\n",
    "from qiskit import Aer, QuantumRegister, QuantumCircuit, execute\n",
    "from qiskit.quantum_info import Pauli, Operator\n",
    "from qiskit.aqua import get_aer_backend\n",
    "from qiskit.aqua.operators import WeightedPauliOperator\n",
    "from qiskit.aqua.components.initial_states import Custom\n",
    "from scipy.optimize import minimize\n",
    "np.set_printoptions(precision=3, suppress=True)"
   ]
  },
  {
   "cell_type": "markdown",
   "metadata": {
    "colab_type": "text",
    "id": "qVwU9fxoQlEF"
   },
   "source": [
    "Now we can define our mixing Hamiltonian on some qubits. We need to define, for instance, an `IZ` operator to express $\\mathbb{I}\\otimes\\sigma_1^Z$, that is, the $\\sigma_1^Z$ operator acting only on qubit 1. We can achieve the same effect the following way (this time using the Pauli-X operator):"
   ]
  },
  {
   "cell_type": "markdown",
   "metadata": {
    "colab_type": "text",
    "id": "RLliaU1tQlEG"
   },
   "source": [
    "In Qiskit, Pauli matrices can be instantiated using the class `Pauli`. This class takes two parameters, the first for $\\sigma^Z$ and the second for $\\sigma^X$. Each parameter is a binary vector of dimension `n_qubits`, such that the component $i$ is 1 if you want a Pauli matrix to apply on the $i^{th}$ qubit and 0 otherwise. For instance, $\\sigma_1^Z \\otimes \\sigma_3^Z \\otimes \\sigma_1^X$ would be implemented using `Pauli([1,0,1],[1,0,0])`.\n",
    "\n",
    "In order to build Hamiltonians and make them evolve (i.e. exponentiate them, as required in QAOA), we need to use the class `Operator` from Qiskit Aqua. This class constructs a Hamiltonian as a sum of products of Pauli matrices. It takes an array of size $n \\times 2$ as parameter, such that each row corresponds to a term in the sum and each term has two components: a coefficient and a `Pauli` object. For instance, $3 \\sigma^Z_1 + 2 \\sigma^X_3$ would be written `Operator([[3, Pauli([1,0,0], [0,0,0])], [2, Pauli([0,0,0],[0,0,3])]])`.  "
   ]
  },
  {
   "cell_type": "markdown",
   "metadata": {
    "colab_type": "text",
    "id": "h7aOoyhbQlEG"
   },
   "source": [
    "**Exercise 1:** Let us denote by `n_qubits` the number of qubits in the circuit. To simplify the code, let's build a function `pauli_x` that simply takes a qubit index (`qubit_index`) and a coefficient and returns the corresponding X-Pauli matrix as an `WeightedPauliOperator`. This operator will act trivially on all qubits, except the given one, i.e. a $\\sigma^X$ is applied to the qubit at the given index, and identity to the rest."
   ]
  },
  {
   "cell_type": "code",
   "execution_count": 1,
   "metadata": {
    "colab": {},
    "colab_type": "code",
    "id": "Ndw1k8sDQlEH"
   },
   "outputs": [],
   "source": [
    "def pauli_x(n_qubits, qubit_index, coeff):\n",
    "    #YOUR CODE HERE\n",
    "    #function takes 3 arguments: n_qubits, qubit_index, coeff\n",
    "    \n",
    "    qubit_x=np.zeros(n_qubits)\n",
    "    qubit_z=np.zeros(n_qubits)\n",
    "    \n",
    "    qubit_x[qubit_index]=qubit_x[qubit_index]+1 \n",
    "    #current value and add what is on the right of the equals sign to the current value\n",
    "    \n",
    "    \n",
    "    pauli_op=Pauli(qubit_z, qubit_x)\n",
    "    operator=WeightedPauliOperator([[0, Pauli(qubit_z, qubit_x)], [coeff, pauliop]])\n",
    "    return operator"
   ]
  },
  {
   "cell_type": "markdown",
   "metadata": {
    "colab_type": "text",
    "id": "XKbTW70xQlEJ"
   },
   "source": [
    "The coefficient here corresponds to the strength of the transverse field at the given qubit. Let's define the mixing Hamiltonian over two qubits:"
   ]
  },
  {
   "cell_type": "code",
   "execution_count": 0,
   "metadata": {
    "ExecuteTime": {
     "end_time": "2018-11-19T20:08:17.863004Z",
     "start_time": "2018-11-19T20:08:17.843293Z"
    },
    "colab": {},
    "colab_type": "code",
    "id": "7pdnNy9SQlEJ"
   },
   "outputs": [],
   "source": [
    "n_qubits = 2\n",
    "identity = pauli_x(n_qubits, 0, 0)\n",
    "\n",
    "Hm = sum([pauli_x(n_qubits, i, -1) for i in range(n_qubits)], identity)"
   ]
  },
  {
   "cell_type": "markdown",
   "metadata": {
    "colab_type": "text",
    "id": "8AXg5WxWQlEM"
   },
   "source": [
    "As an example, we will minimize the Ising problem defined by the cost Hamiltonian $H_c=-\\sigma^Z_1 \\otimes \\sigma^Z_2$. First let's create the functions defining the operators using the Pauli-Z matrix:"
   ]
  },
  {
   "cell_type": "markdown",
   "metadata": {
    "colab_type": "text",
    "id": "Ez-Ejy3fQlEM"
   },
   "source": [
    "**Exercise 2:** build a function `pauli_x` that simply takes a qubit index (`qubit_index`) and a coefficient and returns the corresponding Z-Pauli matrix as an `WeightedPauliOperator` (analog of the function pauli_x)"
   ]
  },
  {
   "cell_type": "code",
   "execution_count": 2,
   "metadata": {
    "colab": {},
    "colab_type": "code",
    "id": "JjaoGhlZQlEM"
   },
   "outputs": [],
   "source": [
    "def pauli_z(n_qubits, qubit_index, coeff):\n",
    "    #YOUR CODE HERE\n",
    "    qubit_x=np.zeros(n_qubits)\n",
    "    qubit_z=np.zeros(n_qubits)\n",
    "    \n",
    "    qubit_x[qubit_index]=qubit_x[qubit_index]+1 \n",
    "    \n",
    "    \n",
    "    pauli_op=Pauli(qubit_z, qubit_x)\n",
    "    \n",
    "\n",
    "    op = WeightedPauliOperator([[coeff, pauli], [0, Pauli(qubit_z, qubit_z)]])\n",
    "    return operator"
   ]
  },
  {
   "cell_type": "markdown",
   "metadata": {
    "colab_type": "text",
    "id": "q8mfMOWXQlEP"
   },
   "source": [
    "**Exercise 3:** In order to construct the cost Hamiltonian, we need to build a `WeightedPauliOperator` object which is a multiplication of two `Pauli` objects (each applied to a qubit at different indices). The `Pauli` objects in Qiskit Aqua support multiplication with asterisk. Build a function which returns a `WeightedPauliOperator` object representing the multiplication of two Pauli objects acting on qubits `q1` and `q2` with an overall coefficient."
   ]
  },
  {
   "cell_type": "code",
   "execution_count": 3,
   "metadata": {
    "colab": {},
    "colab_type": "code",
    "id": "8-tNEDtnQlEP"
   },
   "outputs": [],
   "source": [
    "def product_pauli_z(q1, q2, coeff):\n",
    "    #YOUR CODE HERE\n",
    "    zer_qubits=np.zeros(n_qubits)\n",
    "    \n",
    "    firstp=np.zeros((n_qubits, n_qubits))\n",
    "    secondp=np.zeros((n_qubits, n_qubits))\n",
    "    \n",
    "    firstp[0][q1]=firstp+1\n",
    "    firstp[0][q2]=firstp+1 \n",
    "    \n",
    "    firstpauliobject=Pauli(p1[0], p1[1])\n",
    "    secondpauliobject=Pauli(p2[0], p2[1])\n",
    "    \n",
    "    product=firstpauliobject*secondpauliobject\n",
    "    \n",
    "    return WeightedPauliOperator([[coeff, product], [0, Pauli(zer_qubits, zer_qubits)]])"
   ]
  },
  {
   "cell_type": "markdown",
   "metadata": {
    "colab_type": "text",
    "id": "k7NmQuHjQlES"
   },
   "source": [
    "Then we define the cost Hamiltonian:"
   ]
  },
  {
   "cell_type": "code",
   "execution_count": 0,
   "metadata": {
    "ExecuteTime": {
     "end_time": "2018-11-19T20:08:17.885938Z",
     "start_time": "2018-11-19T20:08:17.865184Z"
    },
    "colab": {},
    "colab_type": "code",
    "id": "3kZj-Ok1QlES"
   },
   "outputs": [],
   "source": [
    "J = np.array([[0,1],[0,0]])\n",
    "Hc = sum([product_pauli_z(i, j, -J[i,j]) for i,j in itertools.product(range(n_qubits), repeat=2)], identity)"
   ]
  },
  {
   "cell_type": "markdown",
   "metadata": {
    "colab_type": "text",
    "id": "IXBD0JOJQlEU"
   },
   "source": [
    "We set the number of time evolution steps $p=1$ and initialize the $\\beta_i$ and $\\gamma_i$ parameters randomly:"
   ]
  },
  {
   "cell_type": "code",
   "execution_count": 0,
   "metadata": {
    "ExecuteTime": {
     "end_time": "2018-11-19T20:08:17.925805Z",
     "start_time": "2018-11-19T20:08:17.905037Z"
    },
    "colab": {},
    "colab_type": "code",
    "id": "BTHPt5L7QlEV"
   },
   "outputs": [],
   "source": [
    "p = 1\n",
    "beta = np.random.uniform(0, np.pi*2, p)\n",
    "gamma = np.random.uniform(0, np.pi*2, p)"
   ]
  },
  {
   "cell_type": "markdown",
   "metadata": {
    "colab_type": "text",
    "id": "ZUTuS6xWQlEX"
   },
   "source": [
    "**Exercise 4:** The initial state for the algorithm is a uniform superposition of all the states $|q_1,...,q_n\\rangle$. Create a quantum circuit called `circuit_init` with a quantum register containing `n_qubits` qubits, and initialize the register in a uniform superposition state"
   ]
  },
  {
   "cell_type": "code",
   "execution_count": 12,
   "metadata": {
    "ExecuteTime": {
     "end_time": "2018-11-19T20:08:18.058128Z",
     "start_time": "2018-11-19T20:08:18.050635Z"
    },
    "colab": {},
    "colab_type": "code",
    "id": "vcDT-12hQlEX",
    "outputId": "ed53c1f3-f3ce-455c-f425-0c870d9dc340"
   },
   "outputs": [
    {
     "ename": "ModuleNotFoundError",
     "evalue": "No module named 'qiskit'",
     "output_type": "error",
     "traceback": [
      "\u001b[1;31m---------------------------------------------------------------------------\u001b[0m",
      "\u001b[1;31mModuleNotFoundError\u001b[0m                       Traceback (most recent call last)",
      "\u001b[1;32m<ipython-input-12-59b053e39a94>\u001b[0m in \u001b[0;36m<module>\u001b[1;34m\u001b[0m\n\u001b[0;32m      1\u001b[0m \u001b[1;31m#YOUR CODE HERE\u001b[0m\u001b[1;33m\u001b[0m\u001b[1;33m\u001b[0m\u001b[1;33m\u001b[0m\u001b[0m\n\u001b[0;32m      2\u001b[0m \u001b[1;33m\u001b[0m\u001b[0m\n\u001b[1;32m----> 3\u001b[1;33m \u001b[1;32mfrom\u001b[0m \u001b[0mqiskit\u001b[0m \u001b[1;32mimport\u001b[0m \u001b[0mQuantumRegister\u001b[0m\u001b[1;33m\u001b[0m\u001b[1;33m\u001b[0m\u001b[0m\n\u001b[0m\u001b[0;32m      4\u001b[0m \u001b[0mqubit_n\u001b[0m\u001b[1;33m=\u001b[0m\u001b[0mQuantumRegister\u001b[0m\u001b[1;33m(\u001b[0m\u001b[0mn_qubits\u001b[0m\u001b[1;33m)\u001b[0m\u001b[1;33m\u001b[0m\u001b[1;33m\u001b[0m\u001b[0m\n\u001b[0;32m      5\u001b[0m \u001b[1;33m\u001b[0m\u001b[0m\n",
      "\u001b[1;31mModuleNotFoundError\u001b[0m: No module named 'qiskit'"
     ]
    }
   ],
   "source": [
    "#YOUR CODE HERE\n",
    "\n",
    "from qiskit import QuantumRegister\n",
    "qubit_n=QuantumRegister(n_qubits)\n",
    "\n",
    "circuit_init=QuantumCircuit(qubit_n)\n",
    "\n",
    "# Shows error \"ModuleNotFoundError: No module named 'qiskit'\" :"
   ]
  },
  {
   "cell_type": "markdown",
   "metadata": {
    "colab_type": "text",
    "id": "GTTrDpljQlEa"
   },
   "source": [
    "Now we define a function `evolve` that takes a Hamiltonian $H$ and an angle $t$ and returns a quantum circuit component made of the unitary matrix $e^{i H t}$. For that, we use the method [`evolve`](https://qiskit.org/documentation/apidoc/aqua/operators/operators.html#qiskit.aqua.operators.WeightedPauliOperator.evolve) of the class `WeightedPauliOperator`. The arguments are:\n",
    "* **initial circuit**: if we want to build $e^{iHt} |\\psi\\rangle$ with $|\\psi\\rangle$ an initial state. Set to `None` if we just need $e^{iHt}$, as in our case (we will append the initial circuit built above only at the end, not between all the exponentials).\n",
    "* **angle**: the parameter t in $e^{iHt}$\n",
    "* **type** of the returned object: in our case, we want a 'circuit'\n",
    "* **quantum registers**: quantum register\n",
    "* **expansion_mode**: method used to compute the evolution\n",
    "* **expansion_order**: order of the approximation used for computing the evolution"
   ]
  },
  {
   "cell_type": "code",
   "execution_count": 0,
   "metadata": {
    "ExecuteTime": {
     "end_time": "2018-11-19T20:08:18.075525Z",
     "start_time": "2018-11-19T20:08:18.059933Z"
    },
    "colab": {},
    "colab_type": "code",
    "id": "HpD4FGykQlEb"
   },
   "outputs": [],
   "source": [
    "def evolve(hamiltonian, angle, qr):\n",
    "    return hamiltonian.evolve(state_in=None, \n",
    "                              evo_time=angle, \n",
    "                              num_time_slices=1,\n",
    "                              quantum_registers=qr,\n",
    "                              expansion_mode='trotter',\n",
    "                              expansion_order=3)"
   ]
  },
  {
   "cell_type": "markdown",
   "metadata": {
    "colab_type": "text",
    "id": "IZ1B_PUXQlEd"
   },
   "source": [
    "To create the circuit, we need to compose the different unitary matrice given by `evolve`."
   ]
  },
  {
   "cell_type": "code",
   "execution_count": 0,
   "metadata": {
    "ExecuteTime": {
     "end_time": "2018-11-19T20:08:18.091375Z",
     "start_time": "2018-11-19T20:08:18.077164Z"
    },
    "colab": {},
    "colab_type": "code",
    "id": "Th-I_rvhQlEd"
   },
   "outputs": [],
   "source": [
    "def create_circuit(beta, gamma):\n",
    "    circuit_evolv = sum([evolve(Hc, beta[i], qr) + evolve(Hm, gamma[i], qr) for i in range(p)], \n",
    "                         circuit_init)\n",
    "    \n",
    "    return circuit_evolv"
   ]
  },
  {
   "cell_type": "markdown",
   "metadata": {
    "colab_type": "text",
    "id": "fHKG2uSvQlEf"
   },
   "source": [
    "We now create a function `evaluate_circuit` that takes a single vector `gamma_beta` (the concatenation of `gamma` and `beta`) and returns $\\langle H_c \\rangle = \\langle \\psi | H_c | \\psi \\rangle$ where $\\psi$ is defined by the circuit created with the function above."
   ]
  },
  {
   "cell_type": "markdown",
   "metadata": {
    "colab_type": "text",
    "id": "ruGrwQSPQlEf"
   },
   "source": [
    "**Exercise 5:** Using the evaluation methods available for the `WeightedPauliOperator` objects compute $\\langle \\psi | H_c | \\psi\\rangle$. You need to 1. obtain a quantum circuit for evaluation based on the operator, 2. execute it against an Aer backend 3. evaluate the mean value of the hamiltonian based on the execution results."
   ]
  },
  {
   "cell_type": "code",
   "execution_count": 11,
   "metadata": {
    "ExecuteTime": {
     "end_time": "2018-11-19T20:08:18.117855Z",
     "start_time": "2018-11-19T20:08:18.093293Z"
    },
    "colab": {},
    "colab_type": "code",
    "id": "wP7RQRqqQlEg"
   },
   "outputs": [],
   "source": [
    "def evaluate_circuit(beta_gamma):\n",
    "    \n",
    "    beta, gamma=beta_gamma\n",
    "    cc=create_circuit([beta], [gamma]) #obtained quantum circuit\n",
    "    "
   ]
  },
  {
   "cell_type": "markdown",
   "metadata": {
    "colab_type": "text",
    "id": "dX7UFuj-QlEi"
   },
   "source": [
    "Finally, we optimize the angles with a classical optimization procedure:"
   ]
  },
  {
   "cell_type": "code",
   "execution_count": 0,
   "metadata": {
    "ExecuteTime": {
     "end_time": "2018-11-19T20:08:37.699288Z",
     "start_time": "2018-11-19T20:08:18.119570Z"
    },
    "colab": {},
    "colab_type": "code",
    "id": "JZuf3cAgQlEi",
    "outputId": "308b74e5-b2ce-46af-8ce2-4ecfe3f22891"
   },
   "outputs": [
    {
     "data": {
      "text/plain": [
       "     fun: -0.9999999887691723\n",
       "   maxcv: 0.0\n",
       " message: 'Optimization terminated successfully.'\n",
       "    nfev: 49\n",
       "  status: 1\n",
       " success: True\n",
       "       x: array([7.069, 3.534])"
      ]
     },
     "execution_count": 12,
     "metadata": {
      "tags": []
     },
     "output_type": "execute_result"
    }
   ],
   "source": [
    "result = minimize(evaluate_circuit, np.concatenate([beta, gamma]), method='COBYLA') #'L-BFGS-B'\n",
    "result "
   ]
  },
  {
   "cell_type": "markdown",
   "metadata": {
    "colab_type": "text",
    "id": "eLcYQvnaQlEk"
   },
   "source": [
    "# Analysis of the results\n",
    "\n",
    "We create a circuit using the optimal parameters found."
   ]
  },
  {
   "cell_type": "code",
   "execution_count": 0,
   "metadata": {
    "ExecuteTime": {
     "end_time": "2018-11-19T20:08:37.795769Z",
     "start_time": "2018-11-19T20:08:37.701647Z"
    },
    "colab": {},
    "colab_type": "code",
    "id": "njOG17hqQlEk",
    "outputId": "30bedd76-badf-4d65-80ed-28cf32ae5bd7"
   },
   "outputs": [
    {
     "data": {
      "text/html": [
       "<pre style=\"word-wrap: normal;white-space: pre;background: #fff0;line-height: 1.1;font-family: &quot;Courier New&quot;,Courier,monospace\">        ┌───┐┌──────────────┐┌──────────────┐\n",
       "q_0: |0>┤ H ├┤0             ├┤0             ├\n",
       "        ├───┤│  Evolution^1 ││  Evolution^1 │\n",
       "q_1: |0>┤ H ├┤1             ├┤1             ├\n",
       "        └───┘└──────────────┘└──────────────┘</pre>"
      ],
      "text/plain": [
       "        ┌───┐┌──────────────┐┌──────────────┐\n",
       "q_0: |0>┤ H ├┤0             ├┤0             ├\n",
       "        ├───┤│  Evolution^1 ││  Evolution^1 │\n",
       "q_1: |0>┤ H ├┤1             ├┤1             ├\n",
       "        └───┘└──────────────┘└──────────────┘"
      ]
     },
     "execution_count": 13,
     "metadata": {
      "tags": []
     },
     "output_type": "execute_result"
    }
   ],
   "source": [
    "circuit = create_circuit(result['x'][:p], result['x'][p:])\n",
    "circuit.draw(output='mpl')"
   ]
  },
  {
   "cell_type": "markdown",
   "metadata": {
    "colab_type": "text",
    "id": "G404U0ymQlEm"
   },
   "source": [
    "We use the `statevector_simulator` backend in order to display the state created by the circuit."
   ]
  },
  {
   "cell_type": "code",
   "execution_count": 0,
   "metadata": {
    "ExecuteTime": {
     "end_time": "2018-11-19T20:08:38.175963Z",
     "start_time": "2018-11-19T20:08:37.797375Z"
    },
    "colab": {},
    "colab_type": "code",
    "id": "CsHPzVrXQlEm",
    "outputId": "1efb92ff-7681-4685-cd3b-1e0b5db6789f"
   },
   "outputs": [
    {
     "name": "stdout",
     "output_type": "stream",
     "text": [
      "[0.707 0.    0.    0.707]\n",
      "[-0.    -1.911 -1.911 -0.   ]\n"
     ]
    }
   ],
   "source": [
    "backend = Aer.get_backend('statevector_simulator')\n",
    "job = execute(circuit, backend)\n",
    "state = np.asarray(job.result().get_statevector(circuit))\n",
    "print(np.absolute(state))\n",
    "print(np.angle(state))"
   ]
  },
  {
   "cell_type": "markdown",
   "metadata": {
    "colab_type": "text",
    "id": "93nENRFhQlEo"
   },
   "source": [
    "We see that the state is approximately $\\frac{1}{\\sqrt{2}} \\left( |00 \\rangle + |11 \\rangle \\right)$. It corresponds to a uniform superposition of the two solutions of the classicial problem: $(\\sigma_1=1$, $\\sigma_2=1)$ and $(\\sigma_1=-1$, $\\sigma_2=-1)$"
   ]
  },
  {
   "cell_type": "markdown",
   "metadata": {
    "colab_type": "text",
    "id": "to8Y2V5DQlEo"
   },
   "source": [
    "We see that both are approximatively equal to zero. It's expected given the state we found above and corresponds a typical quantum behavior where $\\mathbb{E}[\\sigma^Z_1 \\sigma^Z_2] \\neq \\mathbb{E}[\\sigma^Z_1] \\mathbb{E}[\\sigma^Z_2]$"
   ]
  }
 ],
 "metadata": {
  "colab": {
   "name": "7.Variational_Circuits.ipynb",
   "provenance": []
  },
  "kernelspec": {
   "display_name": "Python 3",
   "language": "python",
   "name": "python3"
  },
  "language_info": {
   "codemirror_mode": {
    "name": "ipython",
    "version": 3
   },
   "file_extension": ".py",
   "mimetype": "text/x-python",
   "name": "python",
   "nbconvert_exporter": "python",
   "pygments_lexer": "ipython3",
   "version": "3.7.1"
  }
 },
 "nbformat": 4,
 "nbformat_minor": 1
}
